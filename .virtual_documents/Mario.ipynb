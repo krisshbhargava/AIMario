!pip install gym_super_mario_bros==7.3.0 nes_py


#import game
!pip install gym==0.23.1
import gym_super_mario_bros
from nes_py.wrappers import JoypadSpace
from gym_super_mario_bros.actions import SIMPLE_MOVEMENT


#game setup
env = gym_super_mario_bros.make('SuperMarioBros-v0')
env = JoypadSpace(env, SIMPLE_MOVEMENT)


done = True
for step in range(100000):
    if done:
        observation = env.reset()
    observation, reward, done, info = env.step(env.action_space.sample())
    done = bool(done)  # Cast numpy.bool_ to a regular bool
    env.render()
env.close()


!pip install torch torchvision torchaudio


!pip install 'stable-baselines3[extra]'


from gym.wrappers import GrayScaleObservation
from stable_baselines3.common.vec_env import VecFrameStack, DummyVecEnv
from matplotlib import pyplot as plt


#create base environment
env = gym_super_mario_bros.make('SuperMarioBros-v0')
#simplify controls
env = JoypadSpace(env, SIMPLE_MOVEMENT)
#grayscale environment
env = GrayScaleObservation(env, keep_dim=True)
#wrap inside dummy environment
env = DummyVecEnv([lambda: env])
#stack frames
env = VecFrameStack(env, 4, channels_order='last')


state = env.reset()
plt.imshow(state[0])



