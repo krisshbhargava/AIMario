!pip install gym_super_mario_bros==7.3.0 nes_py


#import game
import gym_super_mario_bros
#import joypad wrapper
from nes_py.wrappers import JoypadSpace
#import simplified controls
from gym_super_mario_bros.actions import SIMPLE_MOVEMENT


#game setup
env = gym_super_mario_bros.make("SuperMarioBros-v0")
env = JoypadSpace(env, SIMPLE_MOVEMENT)


done = True
for step in range(100000): #for a range of 100,000 frames --> loops through frames
    if done:
        env.reset() #if the game is done or not started, this begins game
    state, reward, done, info = env.step(action_space.sample())
    #env.step allows to take random actions
    env.render()#updates the game/environment
    

