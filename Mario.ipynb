{
 "cells": [
  {
   "cell_type": "code",
   "execution_count": 22,
   "id": "91990bf1-8062-4e4a-88d3-13953eba6a28",
   "metadata": {
    "editable": true,
    "slideshow": {
     "slide_type": ""
    },
    "tags": []
   },
   "outputs": [
    {
     "name": "stdout",
     "output_type": "stream",
     "text": [
      "Requirement already satisfied: gym_super_mario_bros==7.3.0 in /Users/krisshbhargava/anaconda3/lib/python3.11/site-packages (7.3.0)\n",
      "Requirement already satisfied: nes_py in /Users/krisshbhargava/anaconda3/lib/python3.11/site-packages (8.1.0)\n",
      "Requirement already satisfied: gym>=0.10.9 in /Users/krisshbhargava/anaconda3/lib/python3.11/site-packages (from nes_py) (0.23.1)\n",
      "Requirement already satisfied: numpy>=1.12.1 in /Users/krisshbhargava/anaconda3/lib/python3.11/site-packages (from nes_py) (1.26.3)\n",
      "Requirement already satisfied: pyglet>=1.3.2 in /Users/krisshbhargava/anaconda3/lib/python3.11/site-packages (from nes_py) (1.5.21)\n",
      "Requirement already satisfied: tqdm>=4.19.5 in /Users/krisshbhargava/anaconda3/lib/python3.11/site-packages (from nes_py) (4.65.0)\n",
      "Requirement already satisfied: cloudpickle>=1.2.0 in /Users/krisshbhargava/anaconda3/lib/python3.11/site-packages (from gym>=0.10.9->nes_py) (2.2.1)\n",
      "Requirement already satisfied: gym-notices>=0.0.4 in /Users/krisshbhargava/anaconda3/lib/python3.11/site-packages (from gym>=0.10.9->nes_py) (0.0.8)\n"
     ]
    }
   ],
   "source": [
    "!pip install gym_super_mario_bros==7.3.0 nes_py"
   ]
  },
  {
   "cell_type": "code",
   "execution_count": 23,
   "id": "4a118f2b-b48c-4a07-a2c6-9d89fb97533d",
   "metadata": {},
   "outputs": [
    {
     "name": "stdout",
     "output_type": "stream",
     "text": [
      "Requirement already satisfied: gym==0.23.1 in /Users/krisshbhargava/anaconda3/lib/python3.11/site-packages (0.23.1)\n",
      "Requirement already satisfied: numpy>=1.18.0 in /Users/krisshbhargava/anaconda3/lib/python3.11/site-packages (from gym==0.23.1) (1.26.3)\n",
      "Requirement already satisfied: cloudpickle>=1.2.0 in /Users/krisshbhargava/anaconda3/lib/python3.11/site-packages (from gym==0.23.1) (2.2.1)\n",
      "Requirement already satisfied: gym-notices>=0.0.4 in /Users/krisshbhargava/anaconda3/lib/python3.11/site-packages (from gym==0.23.1) (0.0.8)\n"
     ]
    }
   ],
   "source": [
    "#import game\n",
    "!pip install gym==0.23.1\n",
    "import gym_super_mario_bros\n",
    "from nes_py.wrappers import JoypadSpace\n",
    "from gym_super_mario_bros.actions import SIMPLE_MOVEMENT"
   ]
  },
  {
   "cell_type": "code",
   "execution_count": 25,
   "id": "11f37dea-d661-4457-94b5-265c46690346",
   "metadata": {},
   "outputs": [],
   "source": [
    "#game setup\n",
    "env = gym_super_mario_bros.make('SuperMarioBros-v0')\n",
    "env = JoypadSpace(env, SIMPLE_MOVEMENT)"
   ]
  },
  {
   "cell_type": "code",
   "execution_count": 29,
   "id": "644fe28a-7844-48ea-b298-f5edeef85818",
   "metadata": {
    "editable": true,
    "slideshow": {
     "slide_type": ""
    },
    "tags": []
   },
   "outputs": [
    {
     "name": "stdout",
     "output_type": "stream",
     "text": [
      "Unexpected exception formatting exception. Falling back to standard exception\n"
     ]
    },
    {
     "name": "stderr",
     "output_type": "stream",
     "text": [
      "Traceback (most recent call last):\n",
      "  File \"/Users/krisshbhargava/anaconda3/lib/python3.11/site-packages/IPython/core/interactiveshell.py\", line 3553, in run_code\n",
      "    exec(code_obj, self.user_global_ns, self.user_ns)\n",
      "  File \"/var/folders/yk/j3hhsj0535767ny972r9b12w0000gn/T/ipykernel_76994/3406172739.py\", line 7, in <module>\n",
      "    env.render()\n",
      "  File \"/Users/krisshbhargava/anaconda3/lib/python3.11/site-packages/gym/core.py\", line 343, in render\n",
      "    def action(self, action):\n",
      "               ^^^^^^^^^^^^^^^\n",
      "  File \"/Users/krisshbhargava/anaconda3/lib/python3.11/site-packages/gym/core.py\", line 343, in render\n",
      "    def action(self, action):\n",
      "               ^^^^^^^^^^^^^^^\n",
      "  File \"/Users/krisshbhargava/anaconda3/lib/python3.11/site-packages/gym/wrappers/order_enforcing.py\", line 51, in render\n",
      "  File \"/Users/krisshbhargava/anaconda3/lib/python3.11/site-packages/gym/wrappers/env_checker.py\", line 57, in render\n",
      "  File \"/Users/krisshbhargava/anaconda3/lib/python3.11/site-packages/nes_py/nes_env.py\", line 379, in render\n",
      "    self.viewer.show(self.screen)\n",
      "  File \"/Users/krisshbhargava/anaconda3/lib/python3.11/site-packages/nes_py/_image_viewer.py\", line 141, in show\n",
      "    frame.tobytes(),\n",
      "    ^^^^^^^^^^^^^^^\n",
      "KeyboardInterrupt\n",
      "\n",
      "During handling of the above exception, another exception occurred:\n",
      "\n",
      "Traceback (most recent call last):\n",
      "  File \"/Users/krisshbhargava/anaconda3/lib/python3.11/site-packages/IPython/core/interactiveshell.py\", line 2144, in showtraceback\n",
      "    stb = self.InteractiveTB.structured_traceback(\n",
      "          ^^^^^^^^^^^^^^^^^^^^^^^^^^^^^^^^^^^^^^^^\n",
      "  File \"/Users/krisshbhargava/anaconda3/lib/python3.11/site-packages/IPython/core/ultratb.py\", line 1435, in structured_traceback\n",
      "    return FormattedTB.structured_traceback(\n",
      "           ^^^^^^^^^^^^^^^^^^^^^^^^^^^^^^^^^\n",
      "  File \"/Users/krisshbhargava/anaconda3/lib/python3.11/site-packages/IPython/core/ultratb.py\", line 1326, in structured_traceback\n",
      "    return VerboseTB.structured_traceback(\n",
      "           ^^^^^^^^^^^^^^^^^^^^^^^^^^^^^^^\n",
      "  File \"/Users/krisshbhargava/anaconda3/lib/python3.11/site-packages/IPython/core/ultratb.py\", line 1173, in structured_traceback\n",
      "    formatted_exception = self.format_exception_as_a_whole(etype, evalue, etb, number_of_lines_of_context,\n",
      "                          ^^^^^^^^^^^^^^^^^^^^^^^^^^^^^^^^^^^^^^^^^^^^^^^^^^^^^^^^^^^^^^^^^^^^^^^^^^^^^^^^\n",
      "  File \"/Users/krisshbhargava/anaconda3/lib/python3.11/site-packages/IPython/core/ultratb.py\", line 1088, in format_exception_as_a_whole\n",
      "    frames.append(self.format_record(record))\n",
      "                  ^^^^^^^^^^^^^^^^^^^^^^^^^^\n",
      "  File \"/Users/krisshbhargava/anaconda3/lib/python3.11/site-packages/IPython/core/ultratb.py\", line 970, in format_record\n",
      "    frame_info.lines, Colors, self.has_colors, lvals\n",
      "    ^^^^^^^^^^^^^^^^\n",
      "  File \"/Users/krisshbhargava/anaconda3/lib/python3.11/site-packages/IPython/core/ultratb.py\", line 792, in lines\n",
      "    return self._sd.lines\n",
      "           ^^^^^^^^^^^^^^\n",
      "  File \"/Users/krisshbhargava/anaconda3/lib/python3.11/site-packages/stack_data/utils.py\", line 145, in cached_property_wrapper\n",
      "    value = obj.__dict__[self.func.__name__] = self.func(obj)\n",
      "                                               ^^^^^^^^^^^^^^\n",
      "  File \"/Users/krisshbhargava/anaconda3/lib/python3.11/site-packages/stack_data/core.py\", line 698, in lines\n",
      "    pieces = self.included_pieces\n",
      "             ^^^^^^^^^^^^^^^^^^^^\n",
      "  File \"/Users/krisshbhargava/anaconda3/lib/python3.11/site-packages/stack_data/utils.py\", line 145, in cached_property_wrapper\n",
      "    value = obj.__dict__[self.func.__name__] = self.func(obj)\n",
      "                                               ^^^^^^^^^^^^^^\n",
      "  File \"/Users/krisshbhargava/anaconda3/lib/python3.11/site-packages/stack_data/core.py\", line 649, in included_pieces\n",
      "    pos = scope_pieces.index(self.executing_piece)\n",
      "                             ^^^^^^^^^^^^^^^^^^^^\n",
      "  File \"/Users/krisshbhargava/anaconda3/lib/python3.11/site-packages/stack_data/utils.py\", line 145, in cached_property_wrapper\n",
      "    value = obj.__dict__[self.func.__name__] = self.func(obj)\n",
      "                                               ^^^^^^^^^^^^^^\n",
      "  File \"/Users/krisshbhargava/anaconda3/lib/python3.11/site-packages/stack_data/core.py\", line 628, in executing_piece\n",
      "    return only(\n",
      "           ^^^^^\n",
      "  File \"/Users/krisshbhargava/anaconda3/lib/python3.11/site-packages/executing/executing.py\", line 164, in only\n",
      "    raise NotOneValueFound('Expected one value, found 0')\n",
      "executing.executing.NotOneValueFound: Expected one value, found 0\n"
     ]
    }
   ],
   "source": [
    "done = True\n",
    "for step in range(100000):\n",
    "    if done:\n",
    "        observation = env.reset()\n",
    "    observation, reward, done, info = env.step(env.action_space.sample())\n",
    "    done = bool(done)  # Cast numpy.bool_ to a regular bool\n",
    "    env.render()\n",
    "env.close()"
   ]
  },
  {
   "cell_type": "code",
   "execution_count": null,
   "id": "605901b3-aa87-4439-a45c-06893dc089ca",
   "metadata": {},
   "outputs": [],
   "source": []
  },
  {
   "cell_type": "code",
   "execution_count": null,
   "id": "c9d5a392-05c5-4d9f-b2bb-d9e10ca6859d",
   "metadata": {},
   "outputs": [],
   "source": []
  }
 ],
 "metadata": {
  "kernelspec": {
   "display_name": "Python 3 (ipykernel)",
   "language": "python",
   "name": "python3"
  },
  "language_info": {
   "codemirror_mode": {
    "name": "ipython",
    "version": 3
   },
   "file_extension": ".py",
   "mimetype": "text/x-python",
   "name": "python",
   "nbconvert_exporter": "python",
   "pygments_lexer": "ipython3",
   "version": "3.11.5"
  }
 },
 "nbformat": 4,
 "nbformat_minor": 5
}
